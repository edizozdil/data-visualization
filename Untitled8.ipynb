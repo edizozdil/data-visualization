{
 "cells": [
  {
   "cell_type": "code",
   "execution_count": null,
   "id": "77010278",
   "metadata": {},
   "outputs": [],
   "source": [
    "import requests\n",
    "from bs4 import BeautifulSoup\n",
    "for page in range(1,65):\n",
    "    url = \"https://www.tripadvisor.com/Restaurant_Review-g293974-d806407-Reviews-Haci_Abdullah_Lokantasi-Istanbul/{page}.html\".format(page =page)\n",
    "    print(url)\n",
    "    page = requests.get(url)\n",
    "    soup = BeautifulSoup(page.content, \"html.parser\")\n",
    "    lists = soup.select(\"div#simulacion_tabla ul\")\n",
    "\n",
    "    for lis in lists:\n",
    "        title = lis.find('li', class_=\"col1\").text\n",
    "        location = lis.find('li', class_=\"col2\").text\n",
    "        province = lis.find('li', class_=\"col3\").text\n",
    "        info = [title, location, province]\n",
    "        print(info)"
   ]
  }
 ],
 "metadata": {
  "kernelspec": {
   "display_name": "Python 3 (ipykernel)",
   "language": "python",
   "name": "python3"
  },
  "language_info": {
   "codemirror_mode": {
    "name": "ipython",
    "version": 3
   },
   "file_extension": ".py",
   "mimetype": "text/x-python",
   "name": "python",
   "nbconvert_exporter": "python",
   "pygments_lexer": "ipython3",
   "version": "3.9.13"
  }
 },
 "nbformat": 4,
 "nbformat_minor": 5
}
