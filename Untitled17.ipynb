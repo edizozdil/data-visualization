{
 "cells": [
  {
   "cell_type": "code",
   "execution_count": 1,
   "id": "37ca0d0d",
   "metadata": {},
   "outputs": [
    {
     "ename": "FileNotFoundError",
     "evalue": "[Errno 2] No such file or directory: 'aapl.csv'",
     "output_type": "error",
     "traceback": [
      "\u001b[1;31m---------------------------------------------------------------------------\u001b[0m",
      "\u001b[1;31mFileNotFoundError\u001b[0m                         Traceback (most recent call last)",
      "\u001b[1;32m~\\AppData\\Local\\Temp\\ipykernel_12996\\230074120.py\u001b[0m in \u001b[0;36m<module>\u001b[1;34m\u001b[0m\n\u001b[0;32m     10\u001b[0m \u001b[1;33m\u001b[0m\u001b[0m\n\u001b[0;32m     11\u001b[0m \u001b[1;31m# reading csv file\u001b[0m\u001b[1;33m\u001b[0m\u001b[1;33m\u001b[0m\u001b[0m\n\u001b[1;32m---> 12\u001b[1;33m \u001b[1;32mwith\u001b[0m \u001b[0mopen\u001b[0m\u001b[1;33m(\u001b[0m\u001b[0mfilename\u001b[0m\u001b[1;33m,\u001b[0m \u001b[1;34m'r'\u001b[0m\u001b[1;33m)\u001b[0m \u001b[1;32mas\u001b[0m \u001b[0mcsvfile\u001b[0m\u001b[1;33m:\u001b[0m\u001b[1;33m\u001b[0m\u001b[1;33m\u001b[0m\u001b[0m\n\u001b[0m\u001b[0;32m     13\u001b[0m         \u001b[1;31m# creating a csv reader object\u001b[0m\u001b[1;33m\u001b[0m\u001b[1;33m\u001b[0m\u001b[0m\n\u001b[0;32m     14\u001b[0m         \u001b[0mcsvreader\u001b[0m \u001b[1;33m=\u001b[0m \u001b[0mcsv\u001b[0m\u001b[1;33m.\u001b[0m\u001b[0mreader\u001b[0m\u001b[1;33m(\u001b[0m\u001b[0mcsvfile\u001b[0m\u001b[1;33m)\u001b[0m\u001b[1;33m\u001b[0m\u001b[1;33m\u001b[0m\u001b[0m\n",
      "\u001b[1;31mFileNotFoundError\u001b[0m: [Errno 2] No such file or directory: 'aapl.csv'"
     ]
    }
   ],
   "source": [
    "# importing csv module\n",
    "import csv\n",
    "\n",
    "# csv file name\n",
    "filename = \"aapl.csv\"\n",
    "\n",
    "# initializing the titles and rows list\n",
    "fields = []\n",
    "rows = []\n",
    "\n",
    "# reading csv file\n",
    "with open(filename, 'r') as csvfile:\n",
    "\t# creating a csv reader object\n",
    "\tcsvreader = csv.reader(csvfile)\n",
    "\t\n",
    "\t# extracting field names through first row\n",
    "\tfields = next(csvreader)\n",
    "\n",
    "\t# extracting each data row one by one\n",
    "\tfor row in csvreader:\n",
    "\t\trows.append(row)\n",
    "\n",
    "\t# get total number of rows\n",
    "\tprint(\"Total no. of rows: %d\"%(csvreader.line_num))\n",
    "\n",
    "# printing the field names\n",
    "print('Field names are:' + ', '.join(field for field in fields))\n",
    "\n",
    "# printing first 5 rows\n",
    "print('\\nFirst 5 rows are:\\n')\n",
    "for row in rows[:5]:\n",
    "\t# parsing each column of a row\n",
    "\tfor col in row:\n",
    "\t\tprint(\"%10s\"%col,end=\" \"),\n",
    "\tprint('\\n')\n"
   ]
  },
  {
   "cell_type": "code",
   "execution_count": null,
   "id": "a24b9601",
   "metadata": {},
   "outputs": [],
   "source": [
    "\n",
    "import json\n",
    "import csv\n",
    " \n",
    "with open(\"C:\\Users\\EdizOzdil\\Downloadsjsonoutput.json') as json_file:\n",
    "    jsondata = json.load(json_file)\n",
    " \n",
    "data_file = open('\"C:\\Users\\EdizOzdil\\Downloadsjsonoutput.csv', 'w', newline='')\n",
    "csv_writer = csv.writer(data_file)\n",
    " \n",
    "count = 0\n",
    "for data in jsondata:\n",
    "    if count == 0:\n",
    "        header = data.keys()\n",
    "        csv_writer.writerow(header)\n",
    "        count += 1\n",
    "    csv_writer.writerow(data.values())\n",
    " \n",
    "data_file.close()"
   ]
  }
 ],
 "metadata": {
  "kernelspec": {
   "display_name": "Python 3 (ipykernel)",
   "language": "python",
   "name": "python3"
  },
  "language_info": {
   "codemirror_mode": {
    "name": "ipython",
    "version": 3
   },
   "file_extension": ".py",
   "mimetype": "text/x-python",
   "name": "python",
   "nbconvert_exporter": "python",
   "pygments_lexer": "ipython3",
   "version": "3.9.13"
  }
 },
 "nbformat": 4,
 "nbformat_minor": 5
}
