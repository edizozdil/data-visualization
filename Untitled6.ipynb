{
 "cells": [
  {
   "cell_type": "code",
   "execution_count": 4,
   "id": "c436e08a",
   "metadata": {
    "scrolled": true
   },
   "outputs": [
    {
     "name": "stdout",
     "output_type": "stream",
     "text": [
      "{'yorumlar': 'I first ate here well over 20 years ago  and have often thought about the magnificient pureed eggplant and belchamel dish they serve.. It looks like mashed potatoes and is the best eggplant I\\'ve ever eaten .. especially when covered with beef \" goulash \"...or a braised  lamb shank. The preserved artichokes are still as good and as beautiful as they used to be. It\\'s fun picking your meal at the counter and  you can be confident the food will be fresh and delicious.. I\\'ve always wished they served wine but what can you do.  The waiters are old school  and friendly and we were lucky we got served before 50 or 60 Italians walked in off their tourist bus.More'}\n",
      "{'yorumlar': 'The food was amazing and the service great until we asked for the bill. \\nFirst they didnt give us the bill, they brought directly the electronic payments machine. When we asked for the bill we discovered they charged us for bread we never asked for...and they brought without asking and some cucumber. Lol I paid 113 liras for chicken and 45 for bread I never asked for and I didnt even eat. Money is not the problem the problem was the lack of transparencyMore'}\n",
      "{'yorumlar': \"Based on past reviews and reading the menu online, we decided to lunch at Haci Abdullah. \\nOnce seated, we came to realise that choosing from the menu was going to prove difficult. Indeed, we were taken to an area  - rather canteen style with a...number of metal containers with different foods - and asked to choose. While it had the advantage of being able to see what was available, the notion of a freshly cooked lunch beautifully presented disappeared out of the window. The food -  lukewarm when brought to our table - was tasty enough but didn't set our tastebuds buzzing.\\nIn terms of ambience, I would guess that the restaurant was rather magnificent in its heyday. Sadly it's now looking a little tired.\\nSo, not a great memorable experience and I doubt we will return.More\"}\n",
      "{'yorumlar': 'Found this restaurant on a blog about old restaurants in Istanbul. It was quite a long walk and mostly uphill but it was nice to explore a new neighborhood. The food was wonderful. The mixed vegetables soup was nicely seasoned. We got the “special rice”...which was grape leaf stuffed with rice and pistachios and other deliciousness. The eggplant with onion was a cold appetizer and good but nothing new. My favorite was the chicken over mashed eggplant. I had never even heard of mashed eggplant but now I know that it’s absolutely delicious. I also have been wanting to try the fresh pomegranate juice and it was outstanding. Best I have ever had. I can’t believe all this food - 2 soups, 2 appetizers, 2 mains, and 2 drinks came out to $26!! I never want to go home.More'}\n",
      "{'yorumlar': 'Every visit we make to Istanbul, we make sure to go to this restaurant. Authentic and delicious! My only “criticism” is, make sure to check the menu prices both in English and Turkish.. they tend to be “different”!:-)'}\n",
      "{'yorumlar': 'Today my mom took his visitors their main restaurant in Beyoglu, istiklal streets. Food is fine. But the attitude of waiter is totally unacceptable. They have only single functioning machine to use the credit card and that was not working. Rest is either not functioning...or outside in the delivery. She could not pay and visitors paid on the behalf of my mum by cash. It was very embarrassing for her. I believe that waiter are doing this purposely. Because they do not get any tip in the with credit card payment case. Unfortunately, management is very poor and targeting this kind of tricks. When I was living in Kuwait i always recommending this restaurant.  Now, I will highlight this issue is everywhere. You can easily find similar quality in cheap price. DO NOT BE RIPPED OFF in  abdullah for cash moneyMore'}\n",
      "{'yorumlar': 'The restaurant was founded in 1888 so it is a historical place in Istanbul.\\nThe food is really good and I like the fact that you can see the kitchen and some of the meals are also shown so you have an idea of what...the food you are ordering looks like. \\nThe staff is really nice and friendly and they also give you great Turkish tea on the house.\\nMuch recommended if you are in the area and want to grab a traditional Turkish/Ottoman meal. \\nI had fried rice with chicken and it was great so make sure to try it!More'}\n",
      "{'yorumlar': 'This is a very old establishment quite close to Taksim Square where you can have a good idea about real Turkish and Ottoman cuisine. You can see the jars filled with many different ingredients all around. You can also see all the dishes as they...are on display. The atmosphere is quite nice. Prices are high for locals but reasonable for tourists. Recommended if you would like to have good local Turkish food.More'}\n",
      "{'yorumlar': 'Thank you very much for your comment\\nwe would like to see you again among us...'}\n",
      "{'yorumlar': 'We had a very nice lunch with local food and very friendly service. The restauran is very pleasant and the desserts are also very nice. Among the dishes we had \"Hunkar begendi\" which was very very good and although the prices are not very low...it sure worth the visit. Very nice pomegrate juice.More'}\n",
      "{'yorumlar': 'Thanks a lot for great visit....'}\n",
      "{'yorumlar': 'This restaurant looks peculiar to the unknowing, but serves fabulous food at reasonable prices.  It looks peculiar because when you walk in you don\\'t see any tables, just a \"cafeteria\" line of cooked foods.  A manager or waiter assists you (in English) on what each...dish is which may be unfamiliar to you. That person will steer  you away from foods you may be allergic to, if you inform him of your problem.  After you make your choices, you are shown to a beautifully set table in a lovely dining room and the foods are brought out to you.  The bill for three of us came to about $30.00. None us skimpt on our order!More'}\n",
      "{'yorumlar': \"Thank's a lot perfect comments and visit\"}\n",
      "{'yorumlar': 'nice restaurant,very nice hunkiar with beef in tomato sauce,very nice sis chicken,very close to istiklal behind demiroren.'}\n",
      "{'yorumlar': 'Thanks a lot for great visit'}\n",
      "{'yorumlar': 'Traditional ottoman cusine, all the dishes were very tasty and the waiter was friendly and helpfull!!! Definately worth a visit.'}\n",
      "{'yorumlar': \"Thank's a lot\"}\n",
      "{'yorumlar': 'Close to Taksim a local tavern which should not be missed. Great cooked food to chose from with a big variety of eggplant dishes. No alcohol is served but the freshly pressed pomograte juice taste lovely. As dessert Karisik composto is a must!'}\n",
      "{'yorumlar': \"Thank's a lot\"}\n",
      "{'yorumlar': 'There are very many restaurants in Istanbul but the most of all are for tourists to serve not delicious foods.\\nBut this restaurant provides delicious traditional Turkish meals with reasonable price.\\nI went there with some friends for enjoying tasty Turkish lunch because my local...Turkish friends recommended. We ordered soup, appetizers and side dishes and main dishes (chicken lamb and beef).\\nAll of them are delicious, if you would like to enjoy Turkish traditional meals, shall you go there not to kebap restaurants?\\nトルコには本当に美味しい料理がたくさんあります（特にアンネ達が作る家庭料理）が、それはケバブやファストフードのお店では決してありません。\\nしかし、イスタンブールは観光地なのでたくさんのレストランがあり、ほとんどが美味しくない観光客向けのお店ばかりです。\\nそんな中でこのレストランは歴史のある、美味しいトルコ料理をリーズナブルに提供してくれるレストランです。是非一度ケバブなどではなくこういうトルコ料理を楽しんでみてはいかがですか。\\nたくさんのメニューがあるので選ぶのだけでも楽しいと思います。More'}\n",
      "{'yorumlar': 'Thanks a lot for nice visit'}\n",
      "{'yorumlar': \"great local food, good for lunch and dinner\\nmany locals dinning there, so they cant go wrong\\ndon't miss\"}\n",
      "{'yorumlar': 'Thanks a lot nice comments'}\n"
     ]
    }
   ],
   "source": [
    "from unittest import result\n",
    "from bs4 import BeautifulSoup\n",
    "import requests\n",
    "import csv\n",
    "import pandas as pd\n",
    "import numpy as np\n",
    "\n",
    "headers = {'User-Agent': \"Mozilla/5.0 (Windows NT 10.0; Win64; x64) AppleWebKit/537.36 (KHTML, like Gecko) Chrome/107.0.0.0 Safari/537.36\"}\n",
    "\n",
    "for page in range (1,65):\n",
    "    website = 'https://www.tripadvisor.com/Restaurant_Review-g293974-d806407-Reviews-Haci_Abdullah_Lokantasi-Istanbul/{page}.html'.format(page=page)\n",
    "    page = requests.get(url = website, headers=headers)\n",
    "    #content = result.text\n",
    "    soup = BeautifulSoup(content, 'html.parser')\n",
    "    #divs = soup.find('div',{'class':'entry'})   \n",
    "    divs = soup.find('div',attrs = {'id':'REVIEWS'})   \n",
    "    comments = []\n",
    "\n",
    "for row in divs.findAll('p',{'class':\"partial_entry\"}):\n",
    "    comment = {}\n",
    "    comment['yorumlar'] = row.text\n",
    "    comments.append(comment)\n",
    "    print(comment)\n",
    "\n",
    "df = pd.DataFrame({'Yorumlar' : comments})\n",
    "df.to_csv('yorumlar.csv', index=False,encoding='utf-8')"
   ]
  },
  {
   "cell_type": "code",
   "execution_count": null,
   "id": "7a990b3e",
   "metadata": {},
   "outputs": [],
   "source": []
  }
 ],
 "metadata": {
  "kernelspec": {
   "display_name": "Python 3 (ipykernel)",
   "language": "python",
   "name": "python3"
  },
  "language_info": {
   "codemirror_mode": {
    "name": "ipython",
    "version": 3
   },
   "file_extension": ".py",
   "mimetype": "text/x-python",
   "name": "python",
   "nbconvert_exporter": "python",
   "pygments_lexer": "ipython3",
   "version": "3.9.13"
  }
 },
 "nbformat": 4,
 "nbformat_minor": 5
}
