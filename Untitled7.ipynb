{
 "cells": [
  {
   "cell_type": "code",
   "execution_count": null,
   "id": "c540e329",
   "metadata": {
    "scrolled": true
   },
   "outputs": [],
   "source": [
    "from unittest import result\n",
    "from bs4 import BeautifulSoup\n",
    "import requests\n",
    "import csv\n",
    "import pandas as pd\n",
    "import numpy as np\n",
    "\n",
    "website = 'https://www.tripadvisor.com/Restaurant_Review-g293974-d806407-Reviews-Haci_Abdullah_Lokantasi-Istanbul.html'\n",
    "headers = {'User-Agent': \"Mozilla/5.0 (Windows NT 10.0; Win64; x64) AppleWebKit/537.36 (KHTML, like Gecko) Chrome/107.0.0.0 Safari/537.36\"}\n",
    "result = requests.get(url = website, headers=headers)\n",
    "content = result.text\n",
    "soup = BeautifulSoup(content, 'html.parser')\n",
    "#divs = soup.find('div',{'class':'entry'})   \n",
    "divs = soup.find('div',attrs = {'id':'REVIEWS'})   \n",
    "comments = []\n",
    "\n",
    "for row in divs.findAll('p',{'class':\"partial_entry\"}):\n",
    "   comment = {}\n",
    "   comment['yorumlar'] = row.text\n",
    "   comments.append(comment)\n",
    "  # print(comment)\n",
    "\n",
    "df = pd.DataFrame({'Yorumlar' : comments})\n",
    "df.to_csv('yorumlar.csv', index=False,encoding='utf-8')\n"
   ]
  }
 ],
 "metadata": {
  "kernelspec": {
   "display_name": "Python 3 (ipykernel)",
   "language": "python",
   "name": "python3"
  },
  "language_info": {
   "codemirror_mode": {
    "name": "ipython",
    "version": 3
   },
   "file_extension": ".py",
   "mimetype": "text/x-python",
   "name": "python",
   "nbconvert_exporter": "python",
   "pygments_lexer": "ipython3",
   "version": "3.9.13"
  }
 },
 "nbformat": 4,
 "nbformat_minor": 5
}
